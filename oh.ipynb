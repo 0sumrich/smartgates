{
 "cells": [
  {
   "cell_type": "code",
   "execution_count": 1,
   "metadata": {},
   "outputs": [],
   "source": [
    "import pandas as pd"
   ]
  },
  {
   "cell_type": "code",
   "execution_count": 2,
   "metadata": {},
   "outputs": [],
   "source": [
    "df = (\n",
    "    pd.read_csv('opening hours.csv', parse_dates=['start', 'finish'])\n",
    "    .assign(diff = lambda x: (x.finish-x.start))\n",
    "    .groupby(['library','opening_type'])\n",
    "    .sum()['diff'].to_frame()\n",
    "    .assign(hours=lambda x: x['diff'].dt.total_seconds()/3600)\n",
    "    .drop('diff', axis=1)\n",
    "    .reset_index()\n",
    "    .pivot(index='library', columns='opening_type', values='hours')\n",
    "    .fillna(0)\n",
    "    .dtypes(int)\n",
    ")\n",
    "df.to_csv('cipfa.csv')"
   ]
  }
 ],
 "metadata": {
  "kernelspec": {
   "display_name": "Python 3",
   "language": "python",
   "name": "python3"
  },
  "language_info": {
   "codemirror_mode": {
    "name": "ipython",
    "version": 3
   },
   "file_extension": ".py",
   "mimetype": "text/x-python",
   "name": "python",
   "nbconvert_exporter": "python",
   "pygments_lexer": "ipython3",
   "version": "3.7.6-final"
  }
 },
 "nbformat": 4,
 "nbformat_minor": 2
}