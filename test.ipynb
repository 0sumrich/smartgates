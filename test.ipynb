{
 "cells": [
  {
   "cell_type": "code",
   "execution_count": 1,
   "metadata": {},
   "outputs": [
    {
     "name": "stdout",
     "output_type": "stream",
     "text": [
      "Requirement already satisfied: pandas in /Users/richardlynch/opt/anaconda3/lib/python3.7/site-packages (0.25.1)\n",
      "Requirement already satisfied: xlrd in /Users/richardlynch/opt/anaconda3/lib/python3.7/site-packages (1.2.0)\n",
      "Requirement already satisfied: ipdb in /Users/richardlynch/opt/anaconda3/lib/python3.7/site-packages (0.12.3)\n",
      "Requirement already satisfied: numpy>=1.13.3 in /Users/richardlynch/opt/anaconda3/lib/python3.7/site-packages (from pandas) (1.17.2)\n",
      "Requirement already satisfied: pytz>=2017.2 in /Users/richardlynch/opt/anaconda3/lib/python3.7/site-packages (from pandas) (2019.3)\n",
      "Requirement already satisfied: python-dateutil>=2.6.1 in /Users/richardlynch/opt/anaconda3/lib/python3.7/site-packages (from pandas) (2.8.0)\n",
      "Requirement already satisfied: ipython>=5.1.0; python_version >= \"3.4\" in /Users/richardlynch/opt/anaconda3/lib/python3.7/site-packages (from ipdb) (7.8.0)\n",
      "Requirement already satisfied: setuptools in /Users/richardlynch/opt/anaconda3/lib/python3.7/site-packages (from ipdb) (41.4.0)\n",
      "Requirement already satisfied: six>=1.5 in /Users/richardlynch/opt/anaconda3/lib/python3.7/site-packages (from python-dateutil>=2.6.1->pandas) (1.12.0)\n",
      "Requirement already satisfied: traitlets>=4.2 in /Users/richardlynch/opt/anaconda3/lib/python3.7/site-packages (from ipython>=5.1.0; python_version >= \"3.4\"->ipdb) (4.3.3)\n",
      "Requirement already satisfied: jedi>=0.10 in /Users/richardlynch/opt/anaconda3/lib/python3.7/site-packages (from ipython>=5.1.0; python_version >= \"3.4\"->ipdb) (0.15.1)\n",
      "Requirement already satisfied: decorator in /Users/richardlynch/opt/anaconda3/lib/python3.7/site-packages (from ipython>=5.1.0; python_version >= \"3.4\"->ipdb) (4.4.0)\n",
      "Requirement already satisfied: pygments in /Users/richardlynch/opt/anaconda3/lib/python3.7/site-packages (from ipython>=5.1.0; python_version >= \"3.4\"->ipdb) (2.4.2)\n",
      "Requirement already satisfied: pickleshare in /Users/richardlynch/opt/anaconda3/lib/python3.7/site-packages (from ipython>=5.1.0; python_version >= \"3.4\"->ipdb) (0.7.5)\n",
      "Requirement already satisfied: prompt-toolkit<2.1.0,>=2.0.0 in /Users/richardlynch/opt/anaconda3/lib/python3.7/site-packages (from ipython>=5.1.0; python_version >= \"3.4\"->ipdb) (2.0.10)\n",
      "Requirement already satisfied: appnope; sys_platform == \"darwin\" in /Users/richardlynch/opt/anaconda3/lib/python3.7/site-packages (from ipython>=5.1.0; python_version >= \"3.4\"->ipdb) (0.1.0)\n",
      "Requirement already satisfied: backcall in /Users/richardlynch/opt/anaconda3/lib/python3.7/site-packages (from ipython>=5.1.0; python_version >= \"3.4\"->ipdb) (0.1.0)\n",
      "Requirement already satisfied: pexpect; sys_platform != \"win32\" in /Users/richardlynch/opt/anaconda3/lib/python3.7/site-packages (from ipython>=5.1.0; python_version >= \"3.4\"->ipdb) (4.7.0)\n",
      "Requirement already satisfied: ipython-genutils in /Users/richardlynch/opt/anaconda3/lib/python3.7/site-packages (from traitlets>=4.2->ipython>=5.1.0; python_version >= \"3.4\"->ipdb) (0.2.0)\n",
      "Requirement already satisfied: parso>=0.5.0 in /Users/richardlynch/opt/anaconda3/lib/python3.7/site-packages (from jedi>=0.10->ipython>=5.1.0; python_version >= \"3.4\"->ipdb) (0.5.1)\n",
      "Requirement already satisfied: wcwidth in /Users/richardlynch/opt/anaconda3/lib/python3.7/site-packages (from prompt-toolkit<2.1.0,>=2.0.0->ipython>=5.1.0; python_version >= \"3.4\"->ipdb) (0.1.7)\n",
      "Requirement already satisfied: ptyprocess>=0.5 in /Users/richardlynch/opt/anaconda3/lib/python3.7/site-packages (from pexpect; sys_platform != \"win32\"->ipython>=5.1.0; python_version >= \"3.4\"->ipdb) (0.6.0)\n"
     ]
    }
   ],
   "source": [
    "!pip install pandas xlrd ipdb"
   ]
  },
  {
   "cell_type": "code",
   "execution_count": 2,
   "metadata": {},
   "outputs": [],
   "source": [
    "import pandas as pd"
   ]
  },
  {
   "cell_type": "code",
   "execution_count": 5,
   "metadata": {},
   "outputs": [],
   "source": [
    "df_2018 = pd.read_csv('2018.csv')\n",
    "df_2019 = pd.read_csv('2019.csv')\n",
    "df=pd.concat([df_2018, df_2019])"
   ]
  },
  {
   "cell_type": "code",
   "execution_count": 7,
   "metadata": {},
   "outputs": [
    {
     "data": {
      "text/html": [
       "<div>\n",
       "<style scoped>\n",
       "    .dataframe tbody tr th:only-of-type {\n",
       "        vertical-align: middle;\n",
       "    }\n",
       "\n",
       "    .dataframe tbody tr th {\n",
       "        vertical-align: top;\n",
       "    }\n",
       "\n",
       "    .dataframe thead th {\n",
       "        text-align: right;\n",
       "    }\n",
       "</style>\n",
       "<table border=\"1\" class=\"dataframe\">\n",
       "  <thead>\n",
       "    <tr style=\"text-align: right;\">\n",
       "      <th></th>\n",
       "      <th>people_in</th>\n",
       "      <th>people_out</th>\n",
       "    </tr>\n",
       "    <tr>\n",
       "      <th>library</th>\n",
       "      <th></th>\n",
       "      <th></th>\n",
       "    </tr>\n",
       "  </thead>\n",
       "  <tbody>\n",
       "    <tr>\n",
       "      <td>Chipping Barnet</td>\n",
       "      <td>143734</td>\n",
       "      <td>156842</td>\n",
       "    </tr>\n",
       "    <tr>\n",
       "      <td>Colindale</td>\n",
       "      <td>136473</td>\n",
       "      <td>119269</td>\n",
       "    </tr>\n",
       "    <tr>\n",
       "      <td>Edgware</td>\n",
       "      <td>245069</td>\n",
       "      <td>282905</td>\n",
       "    </tr>\n",
       "    <tr>\n",
       "      <td>Finchley Church End</td>\n",
       "      <td>241506</td>\n",
       "      <td>294206</td>\n",
       "    </tr>\n",
       "    <tr>\n",
       "      <td>Golders Green</td>\n",
       "      <td>72682</td>\n",
       "      <td>89536</td>\n",
       "    </tr>\n",
       "    <tr>\n",
       "      <td>North Finchley</td>\n",
       "      <td>84615</td>\n",
       "      <td>70106</td>\n",
       "    </tr>\n",
       "    <tr>\n",
       "      <td>Osidge</td>\n",
       "      <td>103678</td>\n",
       "      <td>124381</td>\n",
       "    </tr>\n",
       "  </tbody>\n",
       "</table>\n",
       "</div>"
      ],
      "text/plain": [
       "                     people_in  people_out\n",
       "library                                   \n",
       "Chipping Barnet         143734      156842\n",
       "Colindale               136473      119269\n",
       "Edgware                 245069      282905\n",
       "Finchley Church End     241506      294206\n",
       "Golders Green            72682       89536\n",
       "North Finchley           84615       70106\n",
       "Osidge                  103678      124381"
      ]
     },
     "execution_count": 7,
     "metadata": {},
     "output_type": "execute_result"
    }
   ],
   "source": [
    "df.groupby('library').sum()"
   ]
  }
 ],
 "metadata": {
  "kernelspec": {
   "display_name": "Python 3",
   "language": "python",
   "name": "python3"
  },
  "language_info": {
   "codemirror_mode": {
    "name": "ipython",
    "version": 3
   },
   "file_extension": ".py",
   "mimetype": "text/x-python",
   "name": "python",
   "nbconvert_exporter": "python",
   "pygments_lexer": "ipython3",
   "version": "3.7.4"
  }
 },
 "nbformat": 4,
 "nbformat_minor": 2
}
