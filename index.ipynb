{
 "cells": [
  {
   "cell_type": "code",
   "execution_count": 1,
   "metadata": {},
   "outputs": [
    {
     "name": "stdout",
     "output_type": "stream",
     "text": [
      "Requirement already satisfied: pandas in /Users/richardlynch/opt/anaconda3/lib/python3.7/site-packages (0.25.1)\n",
      "Requirement already satisfied: xlrd in /Users/richardlynch/opt/anaconda3/lib/python3.7/site-packages (1.2.0)\n",
      "Requirement already satisfied: ipdb in /Users/richardlynch/opt/anaconda3/lib/python3.7/site-packages (0.12.3)\n",
      "Requirement already satisfied: pytz>=2017.2 in /Users/richardlynch/opt/anaconda3/lib/python3.7/site-packages (from pandas) (2019.3)\n",
      "Requirement already satisfied: python-dateutil>=2.6.1 in /Users/richardlynch/opt/anaconda3/lib/python3.7/site-packages (from pandas) (2.8.0)\n",
      "Requirement already satisfied: numpy>=1.13.3 in /Users/richardlynch/opt/anaconda3/lib/python3.7/site-packages (from pandas) (1.17.2)\n",
      "Requirement already satisfied: ipython>=5.1.0; python_version >= \"3.4\" in /Users/richardlynch/opt/anaconda3/lib/python3.7/site-packages (from ipdb) (7.8.0)\n",
      "Requirement already satisfied: setuptools in /Users/richardlynch/opt/anaconda3/lib/python3.7/site-packages (from ipdb) (41.4.0)\n",
      "Requirement already satisfied: six>=1.5 in /Users/richardlynch/opt/anaconda3/lib/python3.7/site-packages (from python-dateutil>=2.6.1->pandas) (1.12.0)\n",
      "Requirement already satisfied: prompt-toolkit<2.1.0,>=2.0.0 in /Users/richardlynch/opt/anaconda3/lib/python3.7/site-packages (from ipython>=5.1.0; python_version >= \"3.4\"->ipdb) (2.0.10)\n",
      "Requirement already satisfied: pickleshare in /Users/richardlynch/opt/anaconda3/lib/python3.7/site-packages (from ipython>=5.1.0; python_version >= \"3.4\"->ipdb) (0.7.5)\n",
      "Requirement already satisfied: backcall in /Users/richardlynch/opt/anaconda3/lib/python3.7/site-packages (from ipython>=5.1.0; python_version >= \"3.4\"->ipdb) (0.1.0)\n",
      "Requirement already satisfied: pexpect; sys_platform != \"win32\" in /Users/richardlynch/opt/anaconda3/lib/python3.7/site-packages (from ipython>=5.1.0; python_version >= \"3.4\"->ipdb) (4.7.0)\n",
      "Requirement already satisfied: pygments in /Users/richardlynch/opt/anaconda3/lib/python3.7/site-packages (from ipython>=5.1.0; python_version >= \"3.4\"->ipdb) (2.4.2)\n",
      "Requirement already satisfied: appnope; sys_platform == \"darwin\" in /Users/richardlynch/opt/anaconda3/lib/python3.7/site-packages (from ipython>=5.1.0; python_version >= \"3.4\"->ipdb) (0.1.0)\n",
      "Requirement already satisfied: traitlets>=4.2 in /Users/richardlynch/opt/anaconda3/lib/python3.7/site-packages (from ipython>=5.1.0; python_version >= \"3.4\"->ipdb) (4.3.3)\n",
      "Requirement already satisfied: jedi>=0.10 in /Users/richardlynch/opt/anaconda3/lib/python3.7/site-packages (from ipython>=5.1.0; python_version >= \"3.4\"->ipdb) (0.15.1)\n",
      "Requirement already satisfied: decorator in /Users/richardlynch/opt/anaconda3/lib/python3.7/site-packages (from ipython>=5.1.0; python_version >= \"3.4\"->ipdb) (4.4.0)\n",
      "Requirement already satisfied: wcwidth in /Users/richardlynch/opt/anaconda3/lib/python3.7/site-packages (from prompt-toolkit<2.1.0,>=2.0.0->ipython>=5.1.0; python_version >= \"3.4\"->ipdb) (0.1.7)\n",
      "Requirement already satisfied: ptyprocess>=0.5 in /Users/richardlynch/opt/anaconda3/lib/python3.7/site-packages (from pexpect; sys_platform != \"win32\"->ipython>=5.1.0; python_version >= \"3.4\"->ipdb) (0.6.0)\n",
      "Requirement already satisfied: ipython-genutils in /Users/richardlynch/opt/anaconda3/lib/python3.7/site-packages (from traitlets>=4.2->ipython>=5.1.0; python_version >= \"3.4\"->ipdb) (0.2.0)\n",
      "Requirement already satisfied: parso>=0.5.0 in /Users/richardlynch/opt/anaconda3/lib/python3.7/site-packages (from jedi>=0.10->ipython>=5.1.0; python_version >= \"3.4\"->ipdb) (0.5.1)\n"
     ]
    }
   ],
   "source": [
    "!pip install pandas xlrd ipdb"
   ]
  },
  {
   "cell_type": "code",
   "execution_count": 2,
   "metadata": {},
   "outputs": [],
   "source": [
    "import os\n",
    "import pandas as pd\n",
    "import ipdb\n",
    "from datetime import datetime, time"
   ]
  },
  {
   "cell_type": "code",
   "execution_count": 3,
   "metadata": {},
   "outputs": [
    {
     "name": "stdout",
     "output_type": "stream",
     "text": [
      "weekly-2020-02-10 0925.xlsx\r\n"
     ]
    }
   ],
   "source": [
    "%ls data"
   ]
  },
  {
   "cell_type": "code",
   "execution_count": 4,
   "metadata": {},
   "outputs": [],
   "source": [
    "libs = sorted(pd.read_csv('libraries.csv').full_name.tolist())"
   ]
  },
  {
   "cell_type": "code",
   "execution_count": 5,
   "metadata": {},
   "outputs": [],
   "source": [
    "# CONVERT\n",
    "dn = 'data'\n",
    "fn = dn + '/' + 'weekly-2020-02-10 0925.xlsx'\n",
    "xl = pd.ExcelFile(fn)\n",
    "sheets = xl.sheet_names\n",
    "res=[]\n",
    "for sheet in sheets:\n",
    "    df = xl.parse(sheet)\n",
    "    date = datetime.strptime(df.columns[0], '%d %B %Y')\n",
    "    df = (\n",
    "        df.loc[df['Counter Name'].isin(libs)]\n",
    "        .rename(columns={df.columns[0]: 'dt'})\n",
    "        .fillna('x')        \n",
    "    )\n",
    "    times=df.loc[df.dt!='x']\n",
    "    df.dt = df.dt.replace(to_replace='x', method='ffill')\n",
    "    dt = list(map(lambda x: datetime.combine(date, time(int(x[:2]), 0)), df.dt.tolist()))\n",
    "    df.dt = dt\n",
    "    res.append(df)                             \n",
    "\n",
    "df = pd.concat(res)\n",
    "df = df.rename(columns={'Counter Name': 'Library'})"
   ]
  },
  {
   "cell_type": "code",
   "execution_count": 6,
   "metadata": {},
   "outputs": [
    {
     "data": {
      "text/html": [
       "<div>\n",
       "<style scoped>\n",
       "    .dataframe tbody tr th:only-of-type {\n",
       "        vertical-align: middle;\n",
       "    }\n",
       "\n",
       "    .dataframe tbody tr th {\n",
       "        vertical-align: top;\n",
       "    }\n",
       "\n",
       "    .dataframe thead th {\n",
       "        text-align: right;\n",
       "    }\n",
       "</style>\n",
       "<table border=\"1\" class=\"dataframe\">\n",
       "  <thead>\n",
       "    <tr style=\"text-align: right;\">\n",
       "      <th></th>\n",
       "      <th>library</th>\n",
       "      <th>day</th>\n",
       "      <th>start</th>\n",
       "      <th>finish</th>\n",
       "      <th>opening_type</th>\n",
       "    </tr>\n",
       "  </thead>\n",
       "  <tbody>\n",
       "    <tr>\n",
       "      <td>0</td>\n",
       "      <td>Burnt Oak</td>\n",
       "      <td>Mon</td>\n",
       "      <td>14</td>\n",
       "      <td>20</td>\n",
       "      <td>staffed</td>\n",
       "    </tr>\n",
       "    <tr>\n",
       "      <td>1</td>\n",
       "      <td>Burnt Oak</td>\n",
       "      <td>Wed</td>\n",
       "      <td>9</td>\n",
       "      <td>12</td>\n",
       "      <td>staffed</td>\n",
       "    </tr>\n",
       "    <tr>\n",
       "      <td>2</td>\n",
       "      <td>Burnt Oak</td>\n",
       "      <td>Fri</td>\n",
       "      <td>14</td>\n",
       "      <td>17</td>\n",
       "      <td>staffed</td>\n",
       "    </tr>\n",
       "    <tr>\n",
       "      <td>3</td>\n",
       "      <td>Burnt Oak</td>\n",
       "      <td>Sat</td>\n",
       "      <td>14</td>\n",
       "      <td>17</td>\n",
       "      <td>staffed</td>\n",
       "    </tr>\n",
       "    <tr>\n",
       "      <td>4</td>\n",
       "      <td>Burnt Oak</td>\n",
       "      <td>Mon</td>\n",
       "      <td>9</td>\n",
       "      <td>14</td>\n",
       "      <td>SSO</td>\n",
       "    </tr>\n",
       "    <tr>\n",
       "      <td>...</td>\n",
       "      <td>...</td>\n",
       "      <td>...</td>\n",
       "      <td>...</td>\n",
       "      <td>...</td>\n",
       "      <td>...</td>\n",
       "    </tr>\n",
       "    <tr>\n",
       "      <td>144</td>\n",
       "      <td>South Friern</td>\n",
       "      <td>Sat</td>\n",
       "      <td>14</td>\n",
       "      <td>17</td>\n",
       "      <td>staffed</td>\n",
       "    </tr>\n",
       "    <tr>\n",
       "      <td>145</td>\n",
       "      <td>North Finchley</td>\n",
       "      <td>Thu</td>\n",
       "      <td>12</td>\n",
       "      <td>20</td>\n",
       "      <td>SSO</td>\n",
       "    </tr>\n",
       "    <tr>\n",
       "      <td>146</td>\n",
       "      <td>North Finchley</td>\n",
       "      <td>Fri</td>\n",
       "      <td>17</td>\n",
       "      <td>20</td>\n",
       "      <td>SSO</td>\n",
       "    </tr>\n",
       "    <tr>\n",
       "      <td>147</td>\n",
       "      <td>East Finchley</td>\n",
       "      <td>Thu</td>\n",
       "      <td>17</td>\n",
       "      <td>20</td>\n",
       "      <td>SSO</td>\n",
       "    </tr>\n",
       "    <tr>\n",
       "      <td>148</td>\n",
       "      <td>Osidge</td>\n",
       "      <td>Thu</td>\n",
       "      <td>17</td>\n",
       "      <td>20</td>\n",
       "      <td>SSO</td>\n",
       "    </tr>\n",
       "  </tbody>\n",
       "</table>\n",
       "<p>149 rows × 5 columns</p>\n",
       "</div>"
      ],
      "text/plain": [
       "            library  day  start  finish opening_type\n",
       "0         Burnt Oak  Mon     14      20      staffed\n",
       "1         Burnt Oak  Wed      9      12      staffed\n",
       "2         Burnt Oak  Fri     14      17      staffed\n",
       "3         Burnt Oak  Sat     14      17      staffed\n",
       "4         Burnt Oak  Mon      9      14          SSO\n",
       "..              ...  ...    ...     ...          ...\n",
       "144    South Friern  Sat     14      17      staffed\n",
       "145  North Finchley  Thu     12      20          SSO\n",
       "146  North Finchley  Fri     17      20          SSO\n",
       "147   East Finchley  Thu     17      20          SSO\n",
       "148          Osidge  Thu     17      20          SSO\n",
       "\n",
       "[149 rows x 5 columns]"
      ]
     },
     "execution_count": 6,
     "metadata": {},
     "output_type": "execute_result"
    }
   ],
   "source": [
    "def to_hours(x):\n",
    "    return pd.to_datetime(x).hour\n",
    "\n",
    "oh = pd.read_csv('opening hours.csv', converters={'start': lambda x: to_hours(x), 'finish': lambda x: to_hours(x)})\n",
    "oh"
   ]
  },
  {
   "cell_type": "code",
   "execution_count": null,
   "metadata": {},
   "outputs": [],
   "source": [
    "# ADD OPENING TYPE\n",
    "\n",
    "def get_ot(dt, lib):\n",
    "    in_df = pd.concat([dt, lib], axis=1)\n",
    "    res=[]\n",
    "    for row in in_df.itertuples():\n",
    "        day = row.dt.day_name()[:3]\n",
    "        mask = (\n",
    "            (oh.library==row.Library) &\n",
    "            (oh.day==day) &\n",
    "            (oh.start<=row.dt.hour) &\n",
    "            (oh.finish>row.dt.hour)\n",
    "        )\n",
    "        if oh.loc[mask].empty:\n",
    "            res.append('closed')\n",
    "        else:\n",
    "            ot = oh.loc[mask].opening_type.values[0]\n",
    "            res.append(ot)\n",
    "#     ipdb.set_trace()\n",
    "    return pd.Series(res)\n",
    "\n",
    "ots = get_ot(df.dt, df.Library)\n",
    "df['opening_type'] = ots.values\n",
    "df"
   ]
  },
  {
   "cell_type": "code",
   "execution_count": null,
   "metadata": {},
   "outputs": [],
   "source": [
    "from index import get_df_with_opening_hours"
   ]
  },
  {
   "cell_type": "code",
   "execution_count": null,
   "metadata": {},
   "outputs": [],
   "source": [
    "%ls data\n",
    "fn = 'data/weekly-2020-02-10 0925.xlsx'\n",
    "check = get_df_with_opening_hours(fn)\n",
    "check"
   ]
  }
 ],
 "metadata": {
  "kernelspec": {
   "display_name": "Python 3",
   "language": "python",
   "name": "python3"
  },
  "language_info": {
   "codemirror_mode": {
    "name": "ipython",
    "version": 3
   },
   "file_extension": ".py",
   "mimetype": "text/x-python",
   "name": "python",
   "nbconvert_exporter": "python",
   "pygments_lexer": "ipython3",
   "version": "3.7.4"
  }
 },
 "nbformat": 4,
 "nbformat_minor": 4
}
